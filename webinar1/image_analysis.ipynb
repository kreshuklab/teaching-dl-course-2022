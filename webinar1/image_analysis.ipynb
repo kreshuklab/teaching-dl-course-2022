{
 "cells": [
  {
   "cell_type": "markdown",
   "metadata": {
    "colab_type": "text",
    "id": "view-in-github"
   },
   "source": [
    "<a href=\"https://colab.research.google.com/github/constantinpape/dl-teaching-resources/blob/main/exercises/image_analysis/image_analysis.ipynb\" target=\"_parent\"><img src=\"https://colab.research.google.com/assets/colab-badge.svg\" alt=\"Open In Colab\"/></a>"
   ]
  },
  {
   "cell_type": "markdown",
   "metadata": {
    "id": "WCfP8vqqAWNZ"
   },
   "source": [
    "# Image Manipulation Tutorial"
   ]
  },
  {
   "cell_type": "markdown",
   "metadata": {
    "id": "H0Q839jSD3MW"
   },
   "source": [
    "## Downloading the data\n",
    "\n",
    "We are going to work with Kaggle 2018 Data Science Bowl data.\n",
    "To start with go the [data webpage](https://www.kaggle.com/c/data-science-bowl-2018) and read the data description.\n",
    "\n",
    "Now let's download the data. To make it easier, we're going to work with a subset of it. "
   ]
  },
  {
   "cell_type": "code",
   "execution_count": null,
   "metadata": {
    "id": "z58CoLEBAPCA"
   },
   "outputs": [],
   "source": [
    "!wget --load-cookies /tmp/cookies.txt \"https://docs.google.com/uc?export=download&confirm=$(wget --quiet --save-cookies /tmp/cookies.txt --keep-session-cookies --no-check-certificate 'https://docs.google.com/uc?export=download&id=1O66UElt2ZfhLXUKKX_nTxmIXh6fMA2rT' -O- | sed -rn 's/.*confirm=([0-9A-Za-z_]+).*/\\1\\n/p')&id=1O66UElt2ZfhLXUKKX_nTxmIXh6fMA2rT\" -O kaggle_data.zip && rm -rf /tmp/cookies.txt"
   ]
  },
  {
   "cell_type": "markdown",
   "metadata": {
    "id": "8UauJx3yE7TL"
   },
   "source": [
    "Remember that you can execute any bash command from the Notebook if you preceed the command name with '!'.\n",
    "\n",
    "And please check whether the downloaded archive is around 80M (the value after the progress bar [ <=> ]). If the value is much smaller, rerun the previous cell - probably something failed. \n",
    "\n",
    "Those of you who like bash can play around with unzipping the data into nice folders. The rest of you can just run the following:\n"
   ]
  },
  {
   "cell_type": "code",
   "execution_count": null,
   "metadata": {
    "id": "0x2FqzdGE6ek"
   },
   "outputs": [],
   "source": [
    "!unzip -qq kaggle_data.zip && rm kaggle_data.zip && rm stage1_test.zip\n",
    "!mkdir nuclei_data && unzip -qq stage1_train.zip -d nuclei_data/ && rm stage1_train.zip"
   ]
  },
  {
   "cell_type": "markdown",
   "metadata": {
    "id": "vru7Pc7PFhHZ"
   },
   "source": [
    "Don't forget that you can always check what is happening in your directory using `ls` :"
   ]
  },
  {
   "cell_type": "code",
   "execution_count": null,
   "metadata": {
    "id": "BiSIWiWwFtN2"
   },
   "outputs": [],
   "source": [
    "!ls"
   ]
  },
  {
   "cell_type": "code",
   "execution_count": null,
   "metadata": {
    "id": "s8FrTVajF5XY"
   },
   "outputs": [],
   "source": [
    "!ls nuclei_data"
   ]
  },
  {
   "cell_type": "markdown",
   "metadata": {
    "id": "Ht7KuL4TF9Fk"
   },
   "source": [
    "Wow, that was a loooot of folders. Hint: you can clear the output of the cell by clicking the 'clear output' button below the 'run cell'.\n",
    "\n",
    "Now let's check what they contain by taking one random folder name:\n",
    "\n",
    "\n"
   ]
  },
  {
   "cell_type": "code",
   "execution_count": null,
   "metadata": {
    "id": "mgvaJ_AoGPNZ"
   },
   "outputs": [],
   "source": [
    "!ls nuclei_data/eb1df8ed879d04b36980b0958a0e8fc446ad08c0bdcf3b5f42e3db023187c7e5"
   ]
  },
  {
   "cell_type": "code",
   "execution_count": null,
   "metadata": {
    "id": "yhHSytYNGXX6"
   },
   "outputs": [],
   "source": [
    "!ls nuclei_data/eb1df8ed879d04b36980b0958a0e8fc446ad08c0bdcf3b5f42e3db023187c7e5/images"
   ]
  },
  {
   "cell_type": "markdown",
   "metadata": {
    "id": "0-wQTTJdGdeU"
   },
   "source": [
    "Okay, this one contains a png image. __TASK:__ Check other random folder names to make sure the structure is the same."
   ]
  },
  {
   "cell_type": "markdown",
   "metadata": {
    "id": "IsC7r2AVH4oX"
   },
   "source": [
    "## Displaying images\n",
    "\n",
    "Now we want to load some pictures and look at them. For this we would need the following libraries:"
   ]
  },
  {
   "cell_type": "code",
   "execution_count": null,
   "metadata": {
    "id": "NIKaKom4NjJm"
   },
   "outputs": [],
   "source": [
    "# we want to show images directly in the notebook\n",
    "%matplotlib inline\n",
    "import os       # to list folders content\n",
    "import numpy as np    # scientific computing \n",
    "import matplotlib.pyplot as plt   # plotting and visualisation\n",
    "import scipy\n",
    "import skimage    # image processing library, works with images as numpy arrays\n",
    "import skimage.feature\n",
    "import skimage.filters\n",
    "import skimage.io\n",
    "import skimage.morphology\n",
    "import skimage.transform\n",
    "plt.rcParams['figure.figsize'] = [12, 8]  # set default figure size for matplotlib plots"
   ]
  },
  {
   "cell_type": "code",
   "execution_count": null,
   "metadata": {
    "id": "WT2jCQQ4PLLl"
   },
   "outputs": [],
   "source": [
    "# Let's load a random image \n",
    "image_path = 'nuclei_data/eb1df8ed879d04b36980b0958a0e8fc446ad08c0bdcf3b5f42e3db023187c7e5/images/eb1df8ed879d04b36980b0958a0e8fc446ad08c0bdcf3b5f42e3db023187c7e5.png'\n",
    "image = skimage.io.imread(image_path)"
   ]
  },
  {
   "cell_type": "code",
   "execution_count": null,
   "metadata": {
    "id": "50Lociot2jv7"
   },
   "outputs": [],
   "source": [
    "# Since images are read as numpy arrays, we can check their shape and data type numpy-style\n",
    "print(image.shape) # note that this is an RGBA image (has 4 channels)\n",
    "print(image.dtype)"
   ]
  },
  {
   "cell_type": "code",
   "execution_count": null,
   "metadata": {
    "id": "gf--nJhSaHpY"
   },
   "outputs": [],
   "source": [
    "# Now let's visualize the image\n",
    "plt.imshow(image)"
   ]
  },
  {
   "cell_type": "markdown",
   "metadata": {
    "id": "R8qTyATgTR91"
   },
   "source": [
    "If we want to have a better overview of what is happening in the folder, loading the images one by one is not the best approach. What we will do now is list all the folders we have, and write a function that will load an image file from a random folder."
   ]
  },
  {
   "cell_type": "code",
   "execution_count": null,
   "metadata": {
    "id": "euxX9HSNT5Hc"
   },
   "outputs": [],
   "source": [
    "folders_list = os.listdir('nuclei_data')  # get the list of all the folders inside nuclei_data\n",
    "print(folders_list[0])   # let's see how the folder names look like"
   ]
  },
  {
   "cell_type": "code",
   "execution_count": null,
   "metadata": {
    "id": "zTQ2TzSUUwKG"
   },
   "outputs": [],
   "source": [
    "def show_random_image(dir_list):\n",
    "  rand_idx = np.random.randint(0, len(dir_list))   # get a random index\n",
    "  img_path = # TASK: what would be the image path here?\n",
    "  random_image = skimage.io.imread(img_path)\n",
    "  plt.imshow(random_image)"
   ]
  },
  {
   "cell_type": "code",
   "execution_count": null,
   "metadata": {
    "id": "zg3pT5bpVvXz"
   },
   "outputs": [],
   "source": [
    "# Now test your function and see how the images in your folder look like\n",
    "show_random_image(folders_list)"
   ]
  },
  {
   "cell_type": "markdown",
   "metadata": {
    "id": "M62IPj49YBlx"
   },
   "source": [
    "## Operations on images\n",
    "\n",
    "Now let's look more into the operations that you can perform on your image. Firstly, let's write a function that visualises two images at the same time to examine the transformations visually."
   ]
  },
  {
   "cell_type": "code",
   "execution_count": null,
   "metadata": {
    "id": "dyuifTKyUDfD"
   },
   "outputs": [],
   "source": [
    "def show_two_images(image1, image2):\n",
    "    f, axarr = plt.subplots(1, 2)   # we need two images in a row\n",
    "    axarr[0].imshow(image1)\n",
    "    axarr[1].imshow(image2)\n",
    "    _ = [ax.axis('off') for ax in axarr]   # remove the axis ticks\n",
    "    plt.show()"
   ]
  },
  {
   "cell_type": "code",
   "execution_count": null,
   "metadata": {
    "id": "2bTDb9HAZY9x"
   },
   "outputs": [],
   "source": [
    "# Now let's crop the upper left corner of the image and visualize it next to the original image\n",
    "show_two_images(image, image[:100, :100])"
   ]
  },
  {
   "cell_type": "markdown",
   "metadata": {
    "id": "okAFYEtzdWQe"
   },
   "source": [
    "Looks fine. Now let's go through some common image transformations.\n",
    "\n",
    "## Converting to greyscale\n",
    "If you have looked through enough random images from the folder, you might have noticed some of them are colored and some are gray-scale. If we want to build a generic pipeline that processes all of them, we might need to convert the coloured ones to grayscale as well. Also, we will invert the image to have 0 as background and 1 as signal"
   ]
  },
  {
   "cell_type": "code",
   "execution_count": null,
   "metadata": {
    "id": "k6n4gIa15ck6"
   },
   "outputs": [],
   "source": [
    "grey_image = skimage.color.rgb2gray(image)\n",
    "print(grey_image.shape) # now we see that 4 channels are gone\n",
    "grey_image = 1 - grey_image\n",
    "show_two_images(image, grey_image)"
   ]
  },
  {
   "cell_type": "markdown",
   "metadata": {
    "id": "5_XShDHT423L"
   },
   "source": [
    "As you can see from the second image, by default matplotlib is using 'viridis' colormap to display grayscale images. \n",
    "\n",
    "**TASK**: change the cmap parameter in `imshow` function to display the second image in greyscale (use 'Greys' colormap)\n",
    "\n",
    "##Rescaling image"
   ]
  },
  {
   "cell_type": "code",
   "execution_count": null,
   "metadata": {
    "id": "3rcyG_6aZcYg"
   },
   "outputs": [],
   "source": [
    "rescaled_image = skimage.transform.rescale(grey_image, scale=2, order=0)\n",
    "print(rescaled_image.shape) # the image now is twice larger \n",
    "plt.imshow(rescaled_image, cmap='Greys')"
   ]
  },
  {
   "cell_type": "markdown",
   "metadata": {
    "id": "nxzJDkeAfl3E"
   },
   "source": [
    "**TASK** : try different interpolation orders. Which orders produce smoother images? \n",
    "\n",
    "Hint: for visualization crop small regions of the image to see more subtle differences (e.g. `show_two_images(img1[:100, :100], img2[:100, :100])`) \n",
    "\n",
    "**TASK** : find an skimage function that does the same, but instead of scale factor accepts output shape as a parameter \n",
    "\n",
    "Advanced **TASK**: modify `show_two_images` to show n images - given a list of any number of images the function should plot all of them in a row. Visualise multiple interpolations orders at the same time.\n",
    "\n",
    "## Flipping image"
   ]
  },
  {
   "cell_type": "code",
   "execution_count": null,
   "metadata": {
    "id": "vgDIwatCiu7Z"
   },
   "outputs": [],
   "source": [
    "flipped_image = np.flip(image, axis=0)\n",
    "show_two_images(image, flipped_image)"
   ]
  },
  {
   "cell_type": "markdown",
   "metadata": {
    "id": "6ZKy6XpLjmhG"
   },
   "source": [
    "## Rotating image \n",
    "\n",
    "**TASK**: use `skimage.transform.rotate` to rotate your image and visualise it\n",
    "\n",
    "\n",
    "**TASK**: write a function that given an image and a number N will rotate the image by a random angle in range (0, N) degrees"
   ]
  },
  {
   "cell_type": "code",
   "execution_count": null,
   "metadata": {
    "id": "Wp_aLh_37u15"
   },
   "outputs": [],
   "source": [
    "# Your code here\n",
    "rotated_image = #  Your code here\n",
    "show_two_images(image, rotated_image)"
   ]
  },
  {
   "cell_type": "markdown",
   "metadata": {
    "id": "CaZbAok--f2_"
   },
   "source": [
    "\n",
    "## Thresholding image\n",
    "In simple cases you can get an object mask (segment your object) using plain thresholding + connected components. Let's see how good it works for our images. Note, that here we will work on the greyscale version"
   ]
  },
  {
   "cell_type": "code",
   "execution_count": null,
   "metadata": {
    "id": "KeZ8gJMyXiub"
   },
   "outputs": [],
   "source": [
    "threshold = 0.5\n",
    "thresholded_image = grey_image > threshold \n",
    "cells_labels = skimage.measure.label(thresholded_image)\n",
    "plt.imshow(cells_labels, cmap='nipy_spectral')\n",
    "plt.show()"
   ]
  },
  {
   "cell_type": "markdown",
   "metadata": {
    "id": "25kFDmBMZ8D3"
   },
   "source": [
    "**TASK** : try different thresholds. Do you manage to get the objects properly separated? \n",
    "\n",
    "Let's plot a histogram of image values to see whether there is a good cutoff between background and objects"
   ]
  },
  {
   "cell_type": "code",
   "execution_count": null,
   "metadata": {
    "id": "hgUwmt1957vk"
   },
   "outputs": [],
   "source": [
    "plt.hist(grey_image.flatten(), bins=100)\n",
    "plt.show()"
   ]
  },
  {
   "cell_type": "markdown",
   "metadata": {
    "id": "IfPbw4OhfVZd"
   },
   "source": [
    "Doesn't loook like we can define a clear threshold here. Let's try more sophisticated methods\n",
    "\n",
    "**TASK** : Smooth the image with Gaussian filter (`skimage.filters.gaussian`) and try different thresholds again. Does it look better?"
   ]
  },
  {
   "cell_type": "code",
   "execution_count": null,
   "metadata": {
    "id": "xws6VGZIfWWZ"
   },
   "outputs": [],
   "source": [
    "gaussian_smoothed_image = #TODO"
   ]
  },
  {
   "cell_type": "markdown",
   "metadata": {
    "id": "uGTwsBdogC8O"
   },
   "source": [
    "The object boundaries look smoother, but there are still many objects we are not able to split fully. \n",
    "**TASK** : take a look at other thresholding methods offered by skimage. Hint: many of them can be visualized with `skimage.filters.try_all_threshold`"
   ]
  },
  {
   "cell_type": "markdown",
   "metadata": {
    "id": "8dCojJG9Ij8X"
   },
   "source": [
    "\n",
    "\n",
    "## Morphological Transformations\n",
    "The masks we got out of tresholding look suboptimal. There are small objects and some masks are merged together. We can try to alleviate there problems with such morphological transformation as opening - errosion followed by dilation (a good explanation [here](https://www.youtube.com/watch?v=uUweXBmm978)).\n",
    "\n",
    "Let's see how it looks like."
   ]
  },
  {
   "cell_type": "code",
   "execution_count": null,
   "metadata": {
    "id": "qQ7PUKl-jj12"
   },
   "outputs": [],
   "source": [
    "# we need to set a structuring element (https://www.youtube.com/watch?v=9lqH5XLI-V4)\n",
    "kernel = np.ones((3,3), np.uint8)\n",
    "opened_image = scipy.ndimage.binary_opening(thresholded_image, structure=kernel, iterations=4)\n",
    "show_two_images(thresholded_image, opened_image)\n"
   ]
  },
  {
   "cell_type": "markdown",
   "metadata": {
    "id": "Fo5VqIVomUbr"
   },
   "source": [
    "As we can see, many small object disappeared and some objects got split, but not all.\n",
    "\n",
    "**TASK**: try different number of iterations. How does it affect the segmentation masks? \n",
    "\n",
    "**TASK**: Try closing (`scipy.ndimage.binary_closing`) to see what is does.\n",
    "\n",
    "## Finding edges \n",
    "We can also try to use image gradients to detect object edges. Let's try to use the [Canny algorithm](https://scikit-image.org/docs/dev/auto_examples/applications/plot_coins_segmentation.html#edge-based-segmentation). "
   ]
  },
  {
   "cell_type": "code",
   "execution_count": null,
   "metadata": {
    "id": "77Hzm59v1B7E"
   },
   "outputs": [],
   "source": [
    "canny_edges = skimage.feature.canny(grey_image, sigma=1) # we get the object boundaries - 'edges'\n",
    "filled_edges = scipy.ndimage.binary_fill_holes(canny_edges) # we fill the inner part to get full objects\n",
    "show_two_images(canny_edges, filled_edges)"
   ]
  },
  {
   "cell_type": "markdown",
   "metadata": {
    "id": "mxGsZ7hEnkm0"
   },
   "source": [
    "While the boundaries seem relatively good, the resulting segmentation is far from perfect, because of the small holes in the boundaries. \n",
    "\n",
    "**TASK** : for the Canny detecton try different `sigma`, `low_threshold` and `high_threshold`. Does any combination give good object segmentation?\n",
    "\n",
    "**Advanced TASK**: segment the image with the watershed algorithm as described in the \"Segment nuclei\" part of the [Segment human cells tutorial](https://scikit-image.org/docs/dev/auto_examples/applications/plot_human_mitosis.html#segment-nuclei)."
   ]
  }
 ],
 "metadata": {
  "colab": {
   "collapsed_sections": [],
   "include_colab_link": true,
   "name": "image_manipulation.ipynb",
   "provenance": []
  },
  "kernelspec": {
   "display_name": "Python 3",
   "language": "python",
   "name": "python3"
  },
  "language_info": {
   "codemirror_mode": {
    "name": "ipython",
    "version": 3
   },
   "file_extension": ".py",
   "mimetype": "text/x-python",
   "name": "python",
   "nbconvert_exporter": "python",
   "pygments_lexer": "ipython3",
   "version": "3.7.10"
  }
 },
 "nbformat": 4,
 "nbformat_minor": 1
}
